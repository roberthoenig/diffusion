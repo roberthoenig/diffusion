{
 "cells": [
  {
   "cell_type": "code",
   "execution_count": 1,
   "id": "e02c9d97-1b84-4646-9255-05326b54b5e0",
   "metadata": {},
   "outputs": [
    {
     "name": "stderr",
     "output_type": "stream",
     "text": [
      "/home/robert/.pyenv/versions/3.9.7/envs/venv/lib/python3.9/site-packages/scipy/__init__.py:146: UserWarning: A NumPy version >=1.16.5 and <1.23.0 is required for this version of SciPy (detected version 1.23.3\n",
      "  warnings.warn(f\"A NumPy version >={np_minversion} and <{np_maxversion}\"\n",
      "/home/robert/.pyenv/versions/3.9.7/envs/venv/lib/python3.9/site-packages/torch/cuda/__init__.py:83: UserWarning: CUDA initialization: CUDA unknown error - this may be due to an incorrectly set up environment, e.g. changing env variable CUDA_VISIBLE_DEVICES after program start. Setting the available devices to be zero. (Triggered internally at  ../c10/cuda/CUDAFunctions.cpp:109.)\n",
      "  return torch._C._cuda_getDeviceCount() > 0\n"
     ]
    },
    {
     "name": "stdout",
     "output_type": "stream",
     "text": [
      "Jupyter environment detected. Enabling Open3D WebVisualizer.\n",
      "[Open3D INFO] WebRTC GUI backend enabled.\n",
      "[Open3D INFO] WebRTCWindowSystem: HTTP handshake server disabled.\n"
     ]
    }
   ],
   "source": [
    "import matplotlib.pyplot as plt\n",
    "import numpy as np\n",
    "from sklearn.datasets import make_swiss_roll\n",
    "import torch\n",
    "import torch.nn as nn\n",
    "import torch.nn.functional as F\n",
    "import torch.optim as optim\n",
    "from tqdm import tqdm\n",
    "\n",
    "import open3d as o3d\n",
    "\n",
    "import numpy as np\n",
    "from numpy import pi, sin, cos\n",
    "import plotly.graph_objects as go\n",
    "from plotly.subplots import make_subplots\n",
    "import plotly.io as pio\n",
    "import matplotlib.pyplot as plt\n",
    "import meshio\n",
    "from pathlib import Path"
   ]
  },
  {
   "cell_type": "markdown",
   "id": "c83f35ef-816c-4ab1-a0c5-377b1e1fcff0",
   "metadata": {
    "tags": []
   },
   "source": [
    "## Helper functions and model classes"
   ]
  },
  {
   "cell_type": "code",
   "execution_count": 2,
   "id": "2f7260ae-903c-445c-a274-c6c82e23a875",
   "metadata": {
    "tags": []
   },
   "outputs": [],
   "source": [
    "# Sample a batch from the swiss roll\n",
    "def sample_batch(size, noise=0.5):\n",
    "    x, _ = make_swiss_roll(size, noise=noise)\n",
    "    return x[:, [0, 2]] / 10.0\n",
    "\n",
    "def make_beta_schedule(schedule='linear', n_timesteps=1000, start=1e-1, end=1e-1):\n",
    "    if schedule == 'linear':\n",
    "        betas = torch.linspace(start, end, n_timesteps)\n",
    "    elif schedule == \"quad\":\n",
    "        betas = torch.linspace(start ** 0.5, end ** 0.5, n_timesteps) ** 2\n",
    "    elif schedule == \"sigmoid\":\n",
    "        betas = torch.linspace(-6, 6, n_timesteps)\n",
    "        betas = torch.sigmoid(betas) * (end - start) + start\n",
    "    return betas\n",
    "\n",
    "\n",
    "def extract(input, t, shape):\n",
    "    out = torch.gather(input, dim=0, index=t.to(input.device))  # get value at specified t\n",
    "    reshape = [t.shape[0]] + [1] * (len(shape) - 1)\n",
    "    return out.reshape(*reshape)\n",
    "\n",
    "class ConditionalLinear(nn.Module):\n",
    "    def __init__(self, num_in, num_out, n_steps):\n",
    "        super(ConditionalLinear, self).__init__()\n",
    "        self.num_out = num_out\n",
    "        self.lin = nn.Linear(num_in, num_out)\n",
    "        self.embed = nn.Embedding(n_steps, num_out)\n",
    "        self.embed.weight.data.uniform_()\n",
    "\n",
    "    def forward(self, x, y):\n",
    "        out = self.lin(x)\n",
    "        gamma = self.embed(y)\n",
    "        out = gamma.view(-1, self.num_out) * out\n",
    "        return out\n",
    "\n",
    "def p_sample_loop(model, shape):\n",
    "    cur_x = torch.randn(shape)\n",
    "    x_seq = [cur_x]\n",
    "    for i in reversed(range(n_steps)):\n",
    "        cur_x = p_sample(model, cur_x, i)\n",
    "        x_seq.append(cur_x)\n",
    "    return x_seq\n",
    "\n",
    "class ConditionalModel(nn.Module):\n",
    "    def __init__(self, n_steps):\n",
    "        super(ConditionalModel, self).__init__()\n",
    "        self.lin1 = ConditionalLinear(70, 128, n_steps)\n",
    "        self.lin2 = ConditionalLinear(128, 128, n_steps)\n",
    "        self.lin3 = ConditionalLinear(128, 128, n_steps)\n",
    "        self.lin4 = nn.Linear(128, 70)\n",
    "\n",
    "    def forward(self, x, y):\n",
    "        x = F.softplus(self.lin1(x, y))\n",
    "        x = F.softplus(self.lin2(x, y))\n",
    "        x = F.softplus(self.lin3(x, y))\n",
    "        return self.lin4(x)\n",
    "\n",
    "\n",
    "def p_sample(model, x, t):\n",
    "    t = torch.tensor([t])\n",
    "    # Factor to the model output\n",
    "    eps_factor = ((1 - extract(alphas, t, x.shape)) / extract(one_minus_alphas_bar_sqrt, t, x.shape))\n",
    "    # Model output\n",
    "    eps_theta = model(x, t)\n",
    "    # Final values\n",
    "    mean = (1 / extract(alphas, t, x.shape).sqrt()) * (x - (eps_factor * eps_theta))\n",
    "    # Generate z\n",
    "    z = torch.randn_like(x)\n",
    "    # Fixed sigma\n",
    "    sigma_t = extract(betas, t, x.shape).sqrt()\n",
    "    sample = mean + sigma_t * z\n",
    "    return (sample)\n",
    "\n",
    "def noise_estimation_loss(model, x_0):\n",
    "    batch_size = x_0.shape[0]\n",
    "    # Select a random step for each example\n",
    "    t = torch.randint(0, n_steps, size=(batch_size // 2 + 1,))\n",
    "    t = torch.cat([t, n_steps - t - 1], dim=0)[:batch_size].long()\n",
    "    # x0 multiplier\n",
    "    a = extract(alphas_bar_sqrt, t, x_0.shape)\n",
    "    # eps multiplier\n",
    "    am1 = extract(one_minus_alphas_bar_sqrt, t, x_0.shape)\n",
    "    e = torch.randn_like(x_0)\n",
    "    # model input\n",
    "    x = x_0 * a + e * am1\n",
    "    output = model(x, t)\n",
    "    return (e - output).square().mean()\n",
    "\n",
    "\n",
    "class EMA(object):\n",
    "    def __init__(self, mu=0.999):\n",
    "        self.mu = mu\n",
    "        self.shadow = {}\n",
    "\n",
    "    def register(self, module):\n",
    "        for name, param in module.named_parameters():\n",
    "            if param.requires_grad:\n",
    "                self.shadow[name] = param.data.clone()\n",
    "\n",
    "    def update(self, module):\n",
    "        for name, param in module.named_parameters():\n",
    "            if param.requires_grad:\n",
    "                self.shadow[name].data = (1. - self.mu) * param.data + self.mu * self.shadow[name].data\n",
    "\n",
    "    def ema(self, module):\n",
    "        for name, param in module.named_parameters():\n",
    "            if param.requires_grad:\n",
    "                param.data.copy_(self.shadow[name].data)\n",
    "\n",
    "    def ema_copy(self, module):\n",
    "        module_copy = type(module)(module.config).to(module.config.device)\n",
    "        module_copy.load_state_dict(module.state_dict())\n",
    "        self.ema(module_copy)\n",
    "        return module_copy\n",
    "\n",
    "    def state_dict(self):\n",
    "        return self.shadow\n",
    "\n",
    "    def load_state_dict(self, state_dict):\n",
    "        self.shadow = state_dict"
   ]
  },
  {
   "cell_type": "markdown",
   "id": "d04730e5-c448-4129-9046-7886a46b7b9c",
   "metadata": {},
   "source": [
    "## Load dataset"
   ]
  },
  {
   "cell_type": "code",
   "execution_count": 3,
   "id": "a3d712dd-2226-40f7-b29e-ae936ff7e895",
   "metadata": {},
   "outputs": [
    {
     "data": {
      "text/plain": [
       "(3372, 70)"
      ]
     },
     "execution_count": 3,
     "metadata": {},
     "output_type": "execute_result"
    }
   ],
   "source": [
    "data = np.load(\"bounding_boxes.npy\")\n",
    "data = data.reshape(-1, 70)\n",
    "dataset = torch.Tensor(data).float()\n",
    "data.shape"
   ]
  },
  {
   "cell_type": "markdown",
   "id": "0754548b-8d70-42b0-82ad-f433a6849375",
   "metadata": {
    "tags": []
   },
   "source": [
    "## Generate beta schedule"
   ]
  },
  {
   "cell_type": "code",
   "execution_count": 4,
   "id": "d8b1b20d-6c4e-46c0-861a-d95b0a0305c4",
   "metadata": {
    "tags": []
   },
   "outputs": [],
   "source": [
    "n_steps = 100  # number of steps\n",
    "num_steps = n_steps\n",
    "# betas = make_beta_schedule(schedule='linear', n_timesteps=num_steps, start=1e-3, end=1e-3)\n",
    "# betas = make_beta_schedule(schedule='linear', n_timesteps=num_steps, start=1e-3, end=1e-3)\n",
    "betas = make_beta_schedule(schedule='sigmoid', n_timesteps=n_steps, start=1e-5, end=1e-2)\n",
    "\n",
    "# betas = make_beta_schedule(schedule='sigmoid', n_timesteps=num_steps, start=1e-5, end=1e-2)\n",
    "alphas = 1 - betas\n",
    "alphas_prod = torch.cumprod(alphas, dim=0)\n",
    "alphas_prod_p = torch.cat([torch.tensor([1]).float(), alphas_prod[:-1]], 0)\n",
    "alphas_bar = alphas_prod\n",
    "alphas_bar_sqrt = torch.sqrt(alphas_prod)\n",
    "one_minus_alphas_bar_log = torch.log(1 - alphas_prod)\n",
    "one_minus_alphas_bar_sqrt = torch.sqrt(1 - alphas_prod)"
   ]
  },
  {
   "cell_type": "markdown",
   "id": "a6166143-d2d1-4cbc-9411-e01ec4026d73",
   "metadata": {},
   "source": [
    "## Define model"
   ]
  },
  {
   "cell_type": "code",
   "execution_count": 5,
   "id": "e9233db4-1840-4142-a7ae-89bc1c790e4b",
   "metadata": {
    "tags": []
   },
   "outputs": [],
   "source": [
    "model = ConditionalModel(n_steps)\n",
    "optimizer = optim.Adam(model.parameters(), lr=1e-3)\n",
    "# Create EMA model\n",
    "ema = EMA(0.9)\n",
    "ema.register(model)\n",
    "# Batch size\n",
    "batch_size = 16"
   ]
  },
  {
   "cell_type": "markdown",
   "id": "ff21e92c-2147-40d0-a76d-b30fbf30bd27",
   "metadata": {},
   "source": [
    "## Train..."
   ]
  },
  {
   "cell_type": "code",
   "execution_count": null,
   "id": "78b7b72d-4973-4b42-985c-e43d2d2aacbe",
   "metadata": {
    "tags": []
   },
   "outputs": [],
   "source": [
    "batch_losses = []\n",
    "\n",
    "n_steps_training = 5_000\n",
    "pbar = tqdm(range(n_steps_training))\n",
    "for t in pbar:\n",
    "    # X is a torch Variable\n",
    "    permutation = torch.randperm(dataset.size()[0])\n",
    "    losses = []\n",
    "    for i in range(0, dataset.size()[0], batch_size):\n",
    "        # Retrieve current batch\n",
    "        indices = permutation[i:i + batch_size]\n",
    "        batch_x = dataset[indices]\n",
    "        # Compute the loss.\n",
    "        loss = noise_estimation_loss(model, batch_x)\n",
    "        # Before the backward pass, zero all of the network gradients\n",
    "        optimizer.zero_grad()\n",
    "        # Backward pass: compute gradient of the loss with respect to parameters\n",
    "        loss.backward()\n",
    "        # Perform gradient clipping\n",
    "        torch.nn.utils.clip_grad_norm_(model.parameters(), 1.)\n",
    "        # Calling the step function to update the parameters\n",
    "        optimizer.step()\n",
    "        # Update the exponential moving average\n",
    "        ema.update(model)\n",
    "        losses.append(loss.detach().item())\n",
    "    batch_loss = np.array(losses).mean()\n",
    "    pbar.set_postfix({'batch_loss': batch_loss})\n",
    "    batch_losses.append(batch_loss)"
   ]
  },
  {
   "cell_type": "code",
   "execution_count": 17,
   "id": "8c48ac3e-8cdd-44a7-b280-14318c0aa1e8",
   "metadata": {},
   "outputs": [
    {
     "data": {
      "text/plain": [
       "[<matplotlib.lines.Line2D at 0x7fbef9fc5c10>]"
      ]
     },
     "execution_count": 17,
     "metadata": {},
     "output_type": "execute_result"
    },
    {
     "data": {
      "image/png": "[encoded data removed]",
      "text/plain": [
       "<Figure size 432x288 with 1 Axes>"
      ]
     },
     "metadata": {
      "needs_background": "light"
     },
     "output_type": "display_data"
    }
   ],
   "source": [
    "plt.plot(batch_losses)"
   ]
  },
  {
   "cell_type": "code",
   "execution_count": 18,
   "id": "44efdad6-c4b0-4855-9afe-bbe220d402db",
   "metadata": {},
   "outputs": [],
   "source": [
    "torch.save(model.state_dict(), \"model.pt\")"
   ]
  },
  {
   "cell_type": "markdown",
   "id": "0fc5d00d-9619-4166-9531-3f52af9f7773",
   "metadata": {
    "tags": []
   },
   "source": [
    "## ... or load existing model"
   ]
  },
  {
   "cell_type": "code",
   "execution_count": 26,
   "id": "5a7e7fdd-1955-4c6c-a1cc-3fb9194fdefc",
   "metadata": {
    "tags": []
   },
   "outputs": [
    {
     "data": {
      "text/plain": [
       "ConditionalModel(\n",
       "  (lin1): ConditionalLinear(\n",
       "    (lin): Linear(in_features=70, out_features=128, bias=True)\n",
       "    (embed): Embedding(100, 128)\n",
       "  )\n",
       "  (lin2): ConditionalLinear(\n",
       "    (lin): Linear(in_features=128, out_features=128, bias=True)\n",
       "    (embed): Embedding(100, 128)\n",
       "  )\n",
       "  (lin3): ConditionalLinear(\n",
       "    (lin): Linear(in_features=128, out_features=128, bias=True)\n",
       "    (embed): Embedding(100, 128)\n",
       "  )\n",
       "  (lin4): Linear(in_features=128, out_features=70, bias=True)\n",
       ")"
      ]
     },
     "execution_count": 26,
     "metadata": {},
     "output_type": "execute_result"
    }
   ],
   "source": [
    "model.load_state_dict(torch.load(\"model.pt\"))\n",
    "model.eval()"
   ]
  },
  {
   "cell_type": "markdown",
   "id": "15495d20-17cb-4a27-874b-ea234ef37cec",
   "metadata": {},
   "source": [
    "## Plot results"
   ]
  },
  {
   "cell_type": "markdown",
   "id": "1a01b714-d370-497c-82fb-c563b935a35b",
   "metadata": {},
   "source": [
    "### Visualize samples"
   ]
  },
  {
   "cell_type": "code",
   "execution_count": 20,
   "id": "90507ae2-446b-414f-91c9-c166b3780384",
   "metadata": {},
   "outputs": [],
   "source": [
    "# adapted from https://nbviewer.org/github/empet/Hollow-mask-illusion/blob/main/Hollow-Mask-illusion-Animation.ipynb\n",
    "def scene_to_png(scene, png_filename):\n",
    "\n",
    "    mesh = o3d.geometry.TriangleMesh.create_coordinate_frame()\n",
    "    # objs = sample[-1].reshape(10, 7).detach().numpy()\n",
    "    objs = scene\n",
    "    for idx in range(10):\n",
    "        obj = objs[idx,:]\n",
    "        width, depth, height = obj[[0, 1, 2]]\n",
    "        # scale.\n",
    "        obb = o3d.geometry.TriangleMesh.create_box(width=width, height=height, depth=depth)\n",
    "        # center.\n",
    "        obb = obb.translate(-np.array([width, height, depth])/2)\n",
    "        # rotate around z-axis.\n",
    "        rot_vec_norm = np.array([0., 0., 1.])\n",
    "        angle = obj[6]\n",
    "        rot_vec = angle * rot_vec_norm\n",
    "        rot_mat = o3d.geometry.get_rotation_matrix_from_axis_angle(rot_vec)\n",
    "        obb = obb.rotate(rot_mat)\n",
    "        # translate\n",
    "        obb = obb.translate(obj[[3,4,5]])\n",
    "        mesh += obb\n",
    "    o3d.io.write_triangle_mesh(\"sample.obj\", mesh)\n",
    "    \n",
    "    msh = meshio.read(\"sample.obj\") # https://raw.githubusercontent.com/empet/Datasets/master/Meshes/face-mesh.obj\n",
    "    verts = msh.points\n",
    "    I, J, K =  msh.cells_dict[\"triangle\"].T\n",
    "    x, y, z = verts.T\n",
    "\n",
    "    fig = make_subplots(rows=1, cols=1, \n",
    "                       horizontal_spacing=0.015,\n",
    "                       specs=[[{'type': 'scene'}]])\n",
    "\n",
    "    colorscale = [[0, 'rgb(100,100,100)'], \n",
    "                  [1, 'rgb(250,250,250)']]\n",
    "    fig.add_trace(go.Mesh3d(x=x, y=y, z=z, \n",
    "                              i=I, j=J, k=K, \n",
    "                              intensity=z, \n",
    "                              colorscale =colorscale,\n",
    "                              showscale=False,\n",
    "                              lighting=dict(ambient=0.1,\n",
    "                                            diffuse=1,\n",
    "                                            fresnel=3,  \n",
    "                                            specular=0.5, \n",
    "                                            roughness=0.05),\n",
    "                              lightposition=dict(x=100,\n",
    "                                                 y=200,\n",
    "                                                 z=1000)\n",
    "                           ), 1, 1)\n",
    "    axis_prop =dict(visible=False, autorange=False)\n",
    "\n",
    "    plotly_scenes = dict(xaxis=dict(range=[-11.41, 11.41], **axis_prop),\n",
    "                  yaxis=dict(range=[-11.41, 11.41], **axis_prop),\n",
    "                  zaxis=dict(range=[-8.67, 10.37], **axis_prop),\n",
    "                  camera_eye=dict(x=1.85, y=1.85, z=0.65),\n",
    "                  aspectratio=dict(x=10, y=10, z=10),\n",
    "                  )# annotations = bbox_annotations)\n",
    "\n",
    "    fig.update_layout(title_text=f\"Bounding boxes for scene 0\", title_x=0.5, title_y=0.95,\n",
    "                      font_size=12, font_color=\"white\",\n",
    "                      width=800, height=400, autosize=False, \n",
    "                      margin=dict(t=2, r=2, b=2, l=2),\n",
    "                      paper_bgcolor='black',\n",
    "                      scene=plotly_scenes)\n",
    "    fig.write_image(png_filename)"
   ]
  },
  {
   "cell_type": "code",
   "execution_count": 23,
   "id": "817fefcb-db87-4a43-810c-98b5fe4582a5",
   "metadata": {},
   "outputs": [
    {
     "name": "stderr",
     "output_type": "stream",
     "text": [
      "100%|█████████████████████████████████████████| 100/100 [01:26<00:00,  1.16it/s]\n"
     ]
    }
   ],
   "source": [
    "idx = 2\n",
    "sample = p_sample_loop(model, [1, 70])\n",
    "sample = np.concatenate([s.detach().numpy() for s in sample])\n",
    "sample = sample.reshape(-1, 10, 7)\n",
    "sample[:, :, :3] = np.abs(sample[:, :, :3])\n",
    "Path(f\"scene_{idx}\").mkdir(exist_ok=True)\n",
    "for i in tqdm(range(1, 101)):\n",
    "    scene = sample[i]\n",
    "    scene_to_png(scene, f\"scene_{idx}/scene_{str(i).zfill(3)}.png\")"
   ]
  },
  {
   "cell_type": "code",
   "execution_count": 24,
   "id": "7a3b879c-b924-49c3-b688-6cfc71d9a22f",
   "metadata": {},
   "outputs": [],
   "source": [
    "!convert -delay 10 -loop 1 scene_2/*png scene_2.gif"
   ]
  },
  {
   "cell_type": "markdown",
   "id": "2dd0aeb4-4a3e-42fe-851b-8eade3daff08",
   "metadata": {},
   "source": [
    "Open scene_1.gif in a GIF player."
   ]
  }
 ],
 "metadata": {
  "kernelspec": {
   "display_name": "Python 3 (ipykernel)",
   "language": "python",
   "name": "python3"
  },
  "language_info": {
   "codemirror_mode": {
    "name": "ipython",
    "version": 3
   },
   "file_extension": ".py",
   "mimetype": "text/x-python",
   "name": "python",
   "nbconvert_exporter": "python",
   "pygments_lexer": "ipython3",
   "version": "3.9.7"
  }
 },
 "nbformat": 4,
 "nbformat_minor": 5
}
